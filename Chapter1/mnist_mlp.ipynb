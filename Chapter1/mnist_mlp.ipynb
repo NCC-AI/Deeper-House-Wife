{
 "cells": [
  {
   "cell_type": "code",
   "execution_count": 109,
   "metadata": {},
   "outputs": [],
   "source": [
    "import keras"
   ]
  },
  {
   "cell_type": "markdown",
   "metadata": {},
   "source": [
    "👆kerasをインポートします。"
   ]
  },
  {
   "cell_type": "code",
   "execution_count": 18,
   "metadata": {},
   "outputs": [],
   "source": [
    "from keras.models import Model  \n",
    "from keras.layers import Input, Dense, Flatten\n",
    "import numpy as np"
   ]
  },
  {
   "cell_type": "markdown",
   "metadata": {},
   "source": [
    "👆ニューラルネットワークの層を作るため、必要な関数を取り込んでおきます。"
   ]
  },
  {
   "cell_type": "code",
   "execution_count": 111,
   "metadata": {},
   "outputs": [],
   "source": [
    "from keras.datasets import mnist  # 手書き文字認識のデータセットが入ってます。\n",
    "(x_train, y_train), (x_test, y_test) = mnist.load_data()"
   ]
  },
  {
   "cell_type": "markdown",
   "metadata": {},
   "source": [
    "👆画像を取り入れます。\n",
    "x_train: 訓練画像, y_train: x_trainに対応する数字の答え, x_test: テスト画像, y_test: x_testに対応する数字の答え。"
   ]
  },
  {
   "cell_type": "code",
   "execution_count": 112,
   "metadata": {},
   "outputs": [
    {
     "name": "stdout",
     "output_type": "stream",
     "text": [
      "(60000, 28, 28) (60000,)\n"
     ]
    }
   ],
   "source": [
    "print(x_train.shape, y_train.shape)"
   ]
  },
  {
   "cell_type": "markdown",
   "metadata": {},
   "source": [
    "訓練データの情報を表示しました。60000万枚の画像があって、縦×横が (28,28) の画像です。対応する答えも60000個です。"
   ]
  },
  {
   "cell_type": "code",
   "execution_count": 113,
   "metadata": {},
   "outputs": [],
   "source": [
    "import matplotlib.pyplot as plt  # 画像を描画するツール\n",
    "%matplotlib inline"
   ]
  },
  {
   "cell_type": "markdown",
   "metadata": {},
   "source": [
    "👆このエディタ(jupyter notebook)に表示させるためのコマンドです。"
   ]
  },
  {
   "cell_type": "code",
   "execution_count": 114,
   "metadata": {},
   "outputs": [
    {
     "data": {
      "text/plain": [
       "<matplotlib.image.AxesImage at 0xb50b117b8>"
      ]
     },
     "execution_count": 114,
     "metadata": {},
     "output_type": "execute_result"
    },
    {
     "data": {
      "image/png": "[encoded data removed]",
      "text/plain": [
       "<Figure size 432x288 with 1 Axes>"
      ]
     },
     "metadata": {
      "needs_background": "light"
     },
     "output_type": "display_data"
    }
   ],
   "source": [
    "plt.imshow(x_train[4])  # 1枚目を表示してみる"
   ]
  },
  {
   "cell_type": "markdown",
   "metadata": {},
   "source": [
    "`x_train[0] ~ x_train[59999]` にデータがあります。例えば５番目、x_train[4]は上記のような画像です。"
   ]
  },
  {
   "cell_type": "code",
   "execution_count": 115,
   "metadata": {},
   "outputs": [
    {
     "data": {
      "text/plain": [
       "9"
      ]
     },
     "execution_count": 115,
     "metadata": {},
     "output_type": "execute_result"
    }
   ],
   "source": [
    "y_train[4]"
   ]
  },
  {
   "cell_type": "markdown",
   "metadata": {},
   "source": [
    "ある枚目の画像の数字の答えです。例えば先ほどの５番目、y_train[4]の答えは「9」でした。"
   ]
  },
  {
   "cell_type": "code",
   "execution_count": 116,
   "metadata": {},
   "outputs": [],
   "source": [
    "x_in = Input(shape=(28, 28))\n",
    "flat = Flatten()(x_in)"
   ]
  },
  {
   "cell_type": "markdown",
   "metadata": {},
   "source": [
    "👆x_inに28×28の画像データを入れ（Input関数）、それを１次元の配列へ変換します（Flatten関数)。"
   ]
  },
  {
   "cell_type": "code",
   "execution_count": 117,
   "metadata": {},
   "outputs": [],
   "source": [
    "hidden = Dense(200, activation='relu', name='hidden1')(flat)\n",
    "hidden = Dense(50, activation='relu', name='hidden2')(hidden)\n",
    "prediction = Dense(10, activation='softmax', name='prediction')(hidden)\n",
    "model = Model(x_in, prediction)\n",
    "model.compile(loss='categorical_crossentropy', optimizer='adam', metrics=['acc'])"
   ]
  },
  {
   "cell_type": "markdown",
   "metadata": {},
   "source": [
    "👆答えの予測方法を設定します。（ここでは２段階の係数の更新をして答えを決めることにします。）"
   ]
  },
  {
   "cell_type": "code",
   "execution_count": 118,
   "metadata": {},
   "outputs": [
    {
     "name": "stdout",
     "output_type": "stream",
     "text": [
      "_________________________________________________________________\n",
      "Layer (type)                 Output Shape              Param #   \n",
      "=================================================================\n",
      "input_9 (InputLayer)         (None, 28, 28)            0         \n",
      "_________________________________________________________________\n",
      "flatten_9 (Flatten)          (None, 784)               0         \n",
      "_________________________________________________________________\n",
      "hidden1 (Dense)              (None, 200)               157000    \n",
      "_________________________________________________________________\n",
      "hidden2 (Dense)              (None, 50)                10050     \n",
      "_________________________________________________________________\n",
      "prediction (Dense)           (None, 10)                510       \n",
      "=================================================================\n",
      "Total params: 167,560\n",
      "Trainable params: 167,560\n",
      "Non-trainable params: 0\n",
      "_________________________________________________________________\n"
     ]
    }
   ],
   "source": [
    "model.summary()"
   ]
  },
  {
   "cell_type": "markdown",
   "metadata": {},
   "source": [
    "今の設定を表示しておきました。"
   ]
  },
  {
   "cell_type": "code",
   "execution_count": 119,
   "metadata": {},
   "outputs": [],
   "source": [
    "y_train = np.eye(10)[y_train]\n",
    "y_test = np.eye(10)[y_test]"
   ]
  },
  {
   "cell_type": "markdown",
   "metadata": {},
   "source": [
    "👆0-9の答えを行列に変換しておきます。np.eye(10)は(10,10)の単位行列です。"
   ]
  },
  {
   "cell_type": "code",
   "execution_count": 120,
   "metadata": {},
   "outputs": [
    {
     "data": {
      "text/plain": [
       "array([0., 0., 0., 0., 0., 1., 0., 0., 0., 0.])"
      ]
     },
     "execution_count": 120,
     "metadata": {},
     "output_type": "execute_result"
    }
   ],
   "source": [
    "np.eye(10)[5]"
   ]
  },
  {
   "cell_type": "markdown",
   "metadata": {},
   "source": [
    "例えば、答え「５」は上記のような行列になりました。"
   ]
  },
  {
   "cell_type": "code",
   "execution_count": 122,
   "metadata": {},
   "outputs": [],
   "source": [
    "x_train = x_train / 255.0\n",
    "x_test = x_test / 255.0"
   ]
  },
  {
   "cell_type": "markdown",
   "metadata": {},
   "source": [
    "入力画像を正規化します（RGB0~255の値を持つのでMaxを１にする）"
   ]
  },
  {
   "cell_type": "code",
   "execution_count": 123,
   "metadata": {
    "scrolled": false
   },
   "outputs": [
    {
     "name": "stdout",
     "output_type": "stream",
     "text": [
      "Train on 60000 samples, validate on 10000 samples\n",
      "Epoch 1/10\n",
      "60000/60000 [==============================] - 6s 95us/step - loss: 1.2649 - acc: 0.6198 - val_loss: 4.2641 - val_acc: 0.7246\n",
      "Epoch 2/10\n",
      "60000/60000 [==============================] - 4s 75us/step - loss: 0.5228 - acc: 0.8492 - val_loss: 2.7604 - val_acc: 0.8217\n",
      "Epoch 3/10\n",
      "60000/60000 [==============================] - 5s 75us/step - loss: 0.3988 - acc: 0.8866 - val_loss: 2.5872 - val_acc: 0.8342\n",
      "Epoch 4/10\n",
      "60000/60000 [==============================] - 4s 75us/step - loss: 0.3468 - acc: 0.9012 - val_loss: 2.3029 - val_acc: 0.8517\n",
      "Epoch 5/10\n",
      "60000/60000 [==============================] - 5s 76us/step - loss: 0.3171 - acc: 0.9084 - val_loss: 2.0814 - val_acc: 0.8658\n",
      "Epoch 6/10\n",
      "60000/60000 [==============================] - 4s 75us/step - loss: 0.2965 - acc: 0.9148 - val_loss: 1.8755 - val_acc: 0.8795\n",
      "Epoch 7/10\n",
      "60000/60000 [==============================] - 5s 76us/step - loss: 0.2788 - acc: 0.9202 - val_loss: 1.7263 - val_acc: 0.8888\n",
      "Epoch 8/10\n",
      "60000/60000 [==============================] - 5s 78us/step - loss: 0.2640 - acc: 0.9239 - val_loss: 1.6828 - val_acc: 0.8921\n",
      "Epoch 9/10\n",
      "60000/60000 [==============================] - 5s 80us/step - loss: 0.2510 - acc: 0.9273 - val_loss: 1.5539 - val_acc: 0.8998\n",
      "Epoch 10/10\n",
      "60000/60000 [==============================] - 5s 83us/step - loss: 0.2382 - acc: 0.9305 - val_loss: 1.4734 - val_acc: 0.9054\n"
     ]
    }
   ],
   "source": [
    "history = model.fit(x_train, y_train, validation_data=(x_test, y_test), epochs=10, batch_size=128)"
   ]
  },
  {
   "cell_type": "markdown",
   "metadata": {},
   "source": [
    "👆「60000個の教師データで学び、10000個のデータから128個選んでテストしてみる」という学習を100回繰り返します。毎回、正解率（Accuracy)と真値との誤差の指標（Loss)を表示しています。（「正確さ（Accuracy）」が１に近づくように、学習していきます。）"
   ]
  },
  {
   "cell_type": "code",
   "execution_count": 124,
   "metadata": {},
   "outputs": [
    {
     "data": {
      "text/plain": [
       "[<matplotlib.lines.Line2D at 0xb50bdafd0>]"
      ]
     },
     "execution_count": 124,
     "metadata": {},
     "output_type": "execute_result"
    },
    {
     "data": {
      "image/png": "[encoded data removed]",
      "text/plain": [
       "<Figure size 432x288 with 1 Axes>"
      ]
     },
     "metadata": {
      "needs_background": "light"
     },
     "output_type": "display_data"
    }
   ],
   "source": [
    "plt.plot(history.history['acc'])\n",
    "plt.plot(history.history['val_acc'])"
   ]
  },
  {
   "cell_type": "markdown",
   "metadata": {},
   "source": [
    "学習の成果を表示しました。青は教師データでの学習結果、オレンジはテストの結果です。学習するに従って正確に手書きの文字を認識できるようになっています。"
   ]
  },
  {
   "cell_type": "code",
   "execution_count": null,
   "metadata": {},
   "outputs": [],
   "source": []
  }
 ],
 "metadata": {
  "kernelspec": {
   "display_name": "Python 3",
   "language": "python",
   "name": "python3"
  },
  "language_info": {
   "codemirror_mode": {
    "name": "ipython",
    "version": 3
   },
   "file_extension": ".py",
   "mimetype": "text/x-python",
   "name": "python",
   "nbconvert_exporter": "python",
   "pygments_lexer": "ipython3",
   "version": "3.6.6"
  }
 },
 "nbformat": 4,
 "nbformat_minor": 2
}
