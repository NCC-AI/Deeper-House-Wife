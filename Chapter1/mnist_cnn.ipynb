{
 "cells": [
  {
   "cell_type": "code",
   "execution_count": 196,
   "metadata": {},
   "outputs": [],
   "source": [
    "import numpy as np\n",
    "from keras.datasets import mnist  # 手書き文字認識のデータセットが入ってます。\n",
    "\n",
    "import keras\n",
    "from keras.datasets import mnist\n",
    "from keras.models import Model\n",
    "from keras.layers import Dense, Dropout, Flatten, Input\n",
    "from keras.layers import Conv2D, MaxPooling2D\n",
    "from keras import backend as K"
   ]
  },
  {
   "cell_type": "markdown",
   "metadata": {},
   "source": [
    "👆必要なものをインポートしておきます。今回はCNNなので、Conv2DやMaxPooling2Dもインポートします。"
   ]
  },
  {
   "cell_type": "code",
   "execution_count": 197,
   "metadata": {},
   "outputs": [],
   "source": [
    "(x_train, y_train), (x_test, y_test) = mnist.load_data()"
   ]
  },
  {
   "cell_type": "markdown",
   "metadata": {},
   "source": [
    "👆画像を取り入れます。\n",
    "x_train: 訓練画像, y_train: x_trainに対応する数字の答え, x_test: テスト画像, y_test: x_testに対応する数字の答え。"
   ]
  },
  {
   "cell_type": "code",
   "execution_count": 198,
   "metadata": {},
   "outputs": [],
   "source": [
    "import matplotlib.pyplot as plt  # 画像を描画するツール\n",
    "%matplotlib inline"
   ]
  },
  {
   "cell_type": "markdown",
   "metadata": {},
   "source": [
    "👆このエディタ(jupyter notebook)に表示させるためのコマンドです。"
   ]
  },
  {
   "cell_type": "code",
   "execution_count": 199,
   "metadata": {},
   "outputs": [],
   "source": [
    "x_train = np.expand_dims(x_train, axis=3)\n",
    "x_test = np.expand_dims(x_test, axis=3)"
   ]
  },
  {
   "cell_type": "markdown",
   "metadata": {},
   "source": [
    "👆CNNではチャンネルを次元として増やすので、（０から数えて）３次元に増やしておきます。"
   ]
  },
  {
   "cell_type": "code",
   "execution_count": 200,
   "metadata": {},
   "outputs": [],
   "source": [
    "x_train = x_train / 255.0\n",
    "x_test = x_test / 255.0"
   ]
  },
  {
   "cell_type": "markdown",
   "metadata": {},
   "source": [
    "精度を上げるために、正規化しておきます。"
   ]
  },
  {
   "cell_type": "code",
   "execution_count": 201,
   "metadata": {},
   "outputs": [],
   "source": [
    "y_train = np.eye(10)[y_train]\n",
    "y_test = np.eye(10)[y_test]"
   ]
  },
  {
   "cell_type": "markdown",
   "metadata": {},
   "source": [
    "👆0-9の答えを行列に変換しておきます。np.eye(10)は(10,10)の単位行列です。"
   ]
  },
  {
   "cell_type": "code",
   "execution_count": 202,
   "metadata": {},
   "outputs": [
    {
     "data": {
      "text/plain": [
       "(60000, 28, 28, 1)"
      ]
     },
     "execution_count": 202,
     "metadata": {},
     "output_type": "execute_result"
    }
   ],
   "source": [
    "x_train.shape"
   ]
  },
  {
   "cell_type": "markdown",
   "metadata": {},
   "source": [
    "訓練画像の情報を表示してみました。28×28の画像が60000枚、チャンネルは１、ということです。"
   ]
  },
  {
   "cell_type": "code",
   "execution_count": 203,
   "metadata": {},
   "outputs": [
    {
     "data": {
      "text/plain": [
       "(60000, 10)"
      ]
     },
     "execution_count": 203,
     "metadata": {},
     "output_type": "execute_result"
    }
   ],
   "source": [
    "y_train.shape"
   ]
  },
  {
   "cell_type": "markdown",
   "metadata": {},
   "source": [
    "訓練画像の答え情報を表示してみました。"
   ]
  },
  {
   "cell_type": "code",
   "execution_count": 204,
   "metadata": {},
   "outputs": [],
   "source": [
    "input_shape = (28, 28, 1)\n",
    "num_classes = 10"
   ]
  },
  {
   "cell_type": "markdown",
   "metadata": {},
   "source": [
    "👆入れるデータは28×28、1チャンネルの情報として、答えは0-9の10種類（クラス）と設定します。"
   ]
  },
  {
   "cell_type": "code",
   "execution_count": 205,
   "metadata": {},
   "outputs": [],
   "source": [
    "x_in = Input(shape=input_shape, name='input')\n",
    "x = Conv2D(32, (3, 3), activation='relu')(x_in)\n",
    "x = MaxPooling2D(pool_size=(2, 2))(x)\n",
    "x = Conv2D(32, (3, 3), activation='relu')(x_in)\n",
    "x = MaxPooling2D(pool_size=(2, 2))(x)\n",
    "x = Flatten()(x)\n",
    "x = Dense(128, activation='relu')(x)\n",
    "#prediction = Dense(num_classes, activation='relu')(x)\n",
    "prediction = Dense(num_classes, activation='softmax', name='prediction')(x)\n",
    "model = Model(x_in, prediction)\n",
    "model.compile(loss='categorical_crossentropy', metrics=['acc'], optimizer='adam')"
   ]
  },
  {
   "cell_type": "markdown",
   "metadata": {},
   "source": [
    "👆答えの予測方法を設定します。（ここでは２段階のフィルタと情報選択をして答えを決めることにします。）"
   ]
  },
  {
   "cell_type": "code",
   "execution_count": 206,
   "metadata": {},
   "outputs": [
    {
     "name": "stdout",
     "output_type": "stream",
     "text": [
      "_________________________________________________________________\n",
      "Layer (type)                 Output Shape              Param #   \n",
      "=================================================================\n",
      "input (InputLayer)           (None, 28, 28, 1)         0         \n",
      "_________________________________________________________________\n",
      "conv2d_30 (Conv2D)           (None, 26, 26, 32)        320       \n",
      "_________________________________________________________________\n",
      "max_pooling2d_30 (MaxPooling (None, 13, 13, 32)        0         \n",
      "_________________________________________________________________\n",
      "flatten_15 (Flatten)         (None, 5408)              0         \n",
      "_________________________________________________________________\n",
      "dense_25 (Dense)             (None, 128)               692352    \n",
      "_________________________________________________________________\n",
      "prediction (Dense)           (None, 10)                1290      \n",
      "=================================================================\n",
      "Total params: 693,962\n",
      "Trainable params: 693,962\n",
      "Non-trainable params: 0\n",
      "_________________________________________________________________\n"
     ]
    }
   ],
   "source": [
    "model.summary()"
   ]
  },
  {
   "cell_type": "markdown",
   "metadata": {},
   "source": [
    "今の設定を表示しておきました。"
   ]
  },
  {
   "cell_type": "code",
   "execution_count": 207,
   "metadata": {
    "scrolled": false
   },
   "outputs": [
    {
     "name": "stdout",
     "output_type": "stream",
     "text": [
      "Train on 60000 samples, validate on 10000 samples\n",
      "Epoch 1/10\n",
      "60000/60000 [==============================] - 21s 356us/step - loss: 0.2058 - acc: 0.9423 - val_loss: 0.0732 - val_acc: 0.9768\n",
      "Epoch 2/10\n",
      "60000/60000 [==============================] - 22s 365us/step - loss: 0.0627 - acc: 0.9815 - val_loss: 0.0513 - val_acc: 0.9827\n",
      "Epoch 3/10\n",
      "60000/60000 [==============================] - 23s 386us/step - loss: 0.0421 - acc: 0.9872 - val_loss: 0.0479 - val_acc: 0.9837\n",
      "Epoch 4/10\n",
      "60000/60000 [==============================] - 24s 403us/step - loss: 0.0319 - acc: 0.9904 - val_loss: 0.0437 - val_acc: 0.9855\n",
      "Epoch 5/10\n",
      "60000/60000 [==============================] - 25s 414us/step - loss: 0.0234 - acc: 0.9927 - val_loss: 0.0457 - val_acc: 0.9843\n",
      "Epoch 6/10\n",
      "60000/60000 [==============================] - 25s 425us/step - loss: 0.0170 - acc: 0.9948 - val_loss: 0.0433 - val_acc: 0.9855\n",
      "Epoch 7/10\n",
      "60000/60000 [==============================] - 25s 422us/step - loss: 0.0123 - acc: 0.9967 - val_loss: 0.0448 - val_acc: 0.9854\n",
      "Epoch 8/10\n",
      "60000/60000 [==============================] - 25s 421us/step - loss: 0.0094 - acc: 0.9974 - val_loss: 0.0414 - val_acc: 0.9870\n",
      "Epoch 9/10\n",
      "60000/60000 [==============================] - 25s 422us/step - loss: 0.0077 - acc: 0.9979 - val_loss: 0.0508 - val_acc: 0.9854\n",
      "Epoch 10/10\n",
      "60000/60000 [==============================] - 25s 422us/step - loss: 0.0066 - acc: 0.9980 - val_loss: 0.0459 - val_acc: 0.9857\n"
     ]
    }
   ],
   "source": [
    "history = model.fit(x_train, y_train, epochs=10, batch_size=128, validation_data=(x_test, y_test))"
   ]
  },
  {
   "cell_type": "markdown",
   "metadata": {},
   "source": [
    "👆「60000個の教師データで学び、10000個のデータから128個選んでテストしてみる」という学習を100回繰り返します。毎回、正解率（Accuracy)と不正解率（Loss)を表示しています。（「正確さ（Accuracy）」が１に近づくように、学習していきます。）"
   ]
  },
  {
   "cell_type": "code",
   "execution_count": 208,
   "metadata": {
    "scrolled": false
   },
   "outputs": [
    {
     "data": {
      "text/plain": [
       "[<matplotlib.lines.Line2D at 0xb4efa5fd0>]"
      ]
     },
     "execution_count": 208,
     "metadata": {},
     "output_type": "execute_result"
    },
    {
     "data": {
      "image/png": "[encoded data removed]",
      "text/plain": [
       "<Figure size 432x288 with 1 Axes>"
      ]
     },
     "metadata": {
      "needs_background": "light"
     },
     "output_type": "display_data"
    }
   ],
   "source": [
    "plt.plot(history.history['acc'])\n",
    "plt.plot(history.history['val_acc'])"
   ]
  },
  {
   "cell_type": "markdown",
   "metadata": {},
   "source": [
    "学習の成果を表示しました。オレンジは教師データでの学習結果、青はテストの結果です。学習するに従って正確に手書きの文字を認識できるようになっています。"
   ]
  }
 ],
 "metadata": {
  "kernelspec": {
   "display_name": "Python 3",
   "language": "python",
   "name": "python3"
  },
  "language_info": {
   "codemirror_mode": {
    "name": "ipython",
    "version": 3
   },
   "file_extension": ".py",
   "mimetype": "text/x-python",
   "name": "python",
   "nbconvert_exporter": "python",
   "pygments_lexer": "ipython3",
   "version": "3.6.6"
  }
 },
 "nbformat": 4,
 "nbformat_minor": 2
}
